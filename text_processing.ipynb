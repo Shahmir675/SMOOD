{
  "cells": [
    {
      "cell_type": "markdown",
      "metadata": {
        "id": "dWuYGLrlvYWo"
      },
      "source": [
        "## Importing Dependencies"
      ]
    },
    {
      "cell_type": "code",
      "execution_count": null,
      "metadata": {
        "id": "CQau2lUFvYWu"
      },
      "outputs": [],
      "source": [
        "import kaggle\n",
        "import spacy\n",
        "nlp = spacy.load(\n",
        "     'en_core_web_lg',\n",
        "      disable=['parser', 'ner'])\n",
        "import re\n",
        "import zipfile\n",
        "import os\n",
        "import csv\n",
        "import concurrent\n",
        "import numpy as np\n",
        "import pandas as pd\n",
        "from tqdm.notebook import tqdm\n",
        "from multiprocessing import Pool, cpu_count"
      ]
    },
    {
      "cell_type": "markdown",
      "metadata": {
        "id": "pBI_IVDmvYWw"
      },
      "source": [
        "## Downloading and loading dataset"
      ]
    },
    {
      "cell_type": "code",
      "execution_count": null,
      "metadata": {
        "id": "aLP9SVJIvYWx"
      },
      "outputs": [],
      "source": [
        "! kaggle datasets download -p 'Datasets' 'miguelaenlle/massive-stock-news-analysis-db-for-nlpbacktests'"
      ]
    },
    {
      "cell_type": "code",
      "execution_count": null,
      "metadata": {
        "id": "tJQNjUS1vYWz"
      },
      "outputs": [],
      "source": [
        "with zipfile.ZipFile('Datasets/massive-stock-news-analysis-db-for-nlpbacktests.zip','r') as zip_ref:\n",
        "    zip_ref.extractall('Datasets')\n",
        "\n",
        "os.remove('Datasets/massive-stock-news-analysis-db-for-nlpbacktests.zip')"
      ]
    },
    {
      "cell_type": "code",
      "execution_count": null,
      "metadata": {
        "id": "5eFIishtvYWz"
      },
      "outputs": [],
      "source": [
        "df1 = pd.read_csv('Datasets/analyst_ratings_processed.csv')\n",
        "df2 = pd.read_csv('Datasets/raw_analyst_ratings.csv')\n",
        "df3 = pd.read_csv('Datasets/raw_partner_headlines.csv')"
      ]
    },
    {
      "cell_type": "markdown",
      "metadata": {
        "id": "GOGsog7xvYW0"
      },
      "source": [
        "## Dropping irrelevant columns and merging the dataset"
      ]
    },
    {
      "cell_type": "code",
      "execution_count": null,
      "metadata": {
        "id": "t5CihCPUvYW1"
      },
      "outputs": [],
      "source": [
        "dfs = [df1, df2, df3]\n",
        "dfs = [df.drop('Unnamed: 0', axis=1) for df in dfs]\n",
        "df1, df2, df3 = dfs\n",
        "\n",
        "del dfs"
      ]
    },
    {
      "cell_type": "code",
      "execution_count": null,
      "metadata": {
        "id": "gSOJfsWlvYW2"
      },
      "outputs": [],
      "source": [
        "series1 = df1['title']\n",
        "series2 = df2['headline']\n",
        "series3 = df3['headline']\n",
        "\n",
        "series = pd.concat([series1, series2, series3])\n",
        "del df1, df2, df3, series1, series2, series3\n",
        "\n",
        "print(len(series))"
      ]
    },
    {
      "cell_type": "markdown",
      "metadata": {
        "id": "49ab8Q7ZvYW3"
      },
      "source": [
        "## Text Preprocessing and Cleaning"
      ]
    },
    {
      "cell_type": "code",
      "execution_count": null,
      "metadata": {
        "id": "R3RBtnLwvYW4"
      },
      "outputs": [],
      "source": [
        "series = series.drop_duplicates()\n",
        "print(len(series))"
      ]
    },
    {
      "cell_type": "code",
      "execution_count": null,
      "metadata": {
        "id": "U8yW3grOvYW5"
      },
      "outputs": [],
      "source": [
        "series = series.replace('', pd.NA)\n",
        "series.isna().sum()"
      ]
    },
    {
      "cell_type": "code",
      "execution_count": null,
      "metadata": {
        "id": "LulmdjJKvYW5"
      },
      "outputs": [],
      "source": [
        "series = series.astype(str)"
      ]
    },
    {
      "cell_type": "code",
      "execution_count": null,
      "metadata": {
        "id": "g4OxJY7FvYW5"
      },
      "outputs": [],
      "source": [
        "series = series.str.strip().str.lower()"
      ]
    },
    {
      "cell_type": "code",
      "execution_count": null,
      "metadata": {
        "id": "HvIcCF36vYW6"
      },
      "outputs": [],
      "source": [
        "series = series.str.replace(r'[^&$+\\-\\/\\w\\s]', '', regex=True)"
      ]
    },
    {
      "cell_type": "code",
      "execution_count": null,
      "metadata": {
        "id": "61YXpD2BvYW6"
      },
      "outputs": [],
      "source": [
        "series.head(20)"
      ]
    },
    {
      "cell_type": "markdown",
      "metadata": {
        "id": "mnGoC0zvM98e"
      },
      "source": [
        "## Stopword Removal"
      ]
    },
    {
      "cell_type": "code",
      "execution_count": null,
      "metadata": {
        "id": "dMadqs1rvYW8"
      },
      "outputs": [],
      "source": [
        "def remove_stopwords(chunk):\n",
        "    docs = list(nlp.pipe(chunk))\n",
        "    processed_texts = []\n",
        "    for doc in docs:\n",
        "        tokens_without_stopwords = [token.text for token in doc if not token.is_stop]\n",
        "        processed_texts.append(' '.join(tokens_without_stopwords))\n",
        "    return pd.Series(processed_texts)\n",
        "\n",
        "num_threads = 32\n",
        "\n",
        "chunk_size = 1000\n",
        "series_chunks = [series[i:i+chunk_size] for i in range(0, len(series), chunk_size)]\n",
        "\n",
        "with concurrent.futures.ThreadPoolExecutor(max_workers=num_threads) as executor:\n",
        "    processed_chunks = list(tqdm(executor.map(remove_stopwords, series_chunks), total=len(series_chunks)))\n",
        "\n",
        "series = pd.concat(processed_chunks)"
      ]
    },
    {
      "cell_type": "code",
      "execution_count": null,
      "metadata": {
        "id": "jjKz_99avYW8"
      },
      "outputs": [],
      "source": [
        "series.head(10)"
      ]
    },
    {
      "cell_type": "code",
      "execution_count": null,
      "metadata": {
        "id": "kMYRFycWOas8"
      },
      "outputs": [],
      "source": [
        "series.to_csv('/content/drive/MyDrive/Datasets/stopword_removed.csv')"
      ]
    },
    {
      "cell_type": "markdown",
      "metadata": {
        "id": "obrMX0bJO1Br"
      },
      "source": [
        "## Tokenizing Headlines in Batches"
      ]
    },
    {
      "cell_type": "code",
      "execution_count": null,
      "metadata": {
        "colab": {
          "base_uri": "https://localhost:8080/"
        },
        "id": "V4PCEypYvYW8",
        "outputId": "3f998821-deb1-4aa8-e0ed-bfca7d29e1fc"
      },
      "outputs": [],
      "source": [
        "df = pd.read_csv('/content/drive/MyDrive/Datasets/stopword_removed.csv')\n",
        "df = df.drop('Unnamed: 0', axis=1)\n",
        "df.columns = ['title']\n",
        "series = df.squeeze()\n",
        "series.name = None\n",
        "series = series.astype('str')\n",
        "\n",
        "del df\n",
        "\n",
        "series.head()"
      ]
    },
    {
      "cell_type": "code",
      "execution_count": null,
      "metadata": {
        "id": "x8wndHm0vYW9"
      },
      "outputs": [],
      "source": [
        "def tokenize_texts(texts):\n",
        "    tokenized_texts = []\n",
        "    for doc in nlp.pipe(texts, batch_size=1000):\n",
        "        tokenized_texts.append([''.join(token.text for token in doc if token.text.strip()) for token in doc])\n",
        "    return tokenized_texts"
      ]
    },
    {
      "cell_type": "code",
      "execution_count": null,
      "metadata": {
        "id": "qphJV4fDvYW-"
      },
      "outputs": [],
      "source": [
        "partitions = np.array_split(series, 18)\n",
        "\n",
        "del series"
      ]
    },
    {
      "cell_type": "code",
      "execution_count": null,
      "metadata": {
        "colab": {
          "base_uri": "https://localhost:8080/",
          "height": 49,
          "referenced_widgets": [
            "c3b2e2c922a14fa8b2407171dc602df0",
            "3ed5936180bf41b7b03a2e1e75c49499",
            "27b293718f214ca4aa2cdae0a5ca7822",
            "37dfefda279a46e8996b5a0a48388965",
            "b00c93143e854140b0ff032448e96122",
            "c2799090a3694b2e94c45034b6019b4c",
            "0422f53a99f043e38f851748f6ca8a4e",
            "7bfb4d0ec3aa4fa39424be4e801c5e3d",
            "f444753ab2ab4702a91c701023880ee8",
            "1b99d79f1c374d498341b49a456633aa",
            "014657f126a3414386c17f5d330cf729"
          ]
        },
        "id": "pMgS8HhvvYXA",
        "outputId": "7f8749e9-196e-43bd-da14-83b0844c0bd5"
      },
      "outputs": [],
      "source": [
        "for i in range(18):\n",
        "    with concurrent.futures.ThreadPoolExecutor(max_workers=32) as executor:\n",
        "        processed_partition = list(tqdm(executor.map(tokenize_texts, partitions[17]), total=len(partitions[17]), desc='Batch 17 Tokenization'))"
      ]
    },
    {
      "cell_type": "code",
      "execution_count": null,
      "metadata": {
        "colab": {
          "base_uri": "https://localhost:8080/"
        },
        "id": "RxekrDz7vYXB",
        "outputId": "32c963b8-def5-4fb7-946c-21684ddc295f"
      },
      "outputs": [],
      "source": [
        "def combine_tokens(tokenized_headlines):\n",
        "    combined_headlines = []\n",
        "\n",
        "    for headline_tokens in tokenized_headlines:\n",
        "        combined_tokens = []\n",
        "        current_token = ''\n",
        "\n",
        "        for token in headline_tokens:\n",
        "            if token[0] != '':\n",
        "                current_token += token[0]\n",
        "            else:\n",
        "                if current_token:\n",
        "                    combined_tokens.append(current_token)\n",
        "                    current_token = ''\n",
        "\n",
        "        if current_token:\n",
        "            combined_tokens.append(current_token)\n",
        "\n",
        "        combined_headlines.append(combined_tokens)\n",
        "\n",
        "    return combined_headlines\n",
        "\n",
        "combined_headlines = combine_tokens(processed_partition)\n",
        "combined_headlines[-1]"
      ]
    },
    {
      "cell_type": "code",
      "execution_count": null,
      "metadata": {
        "id": "xFcIMEA2vYXC"
      },
      "outputs": [],
      "source": [
        "def write_to_csv(data, filename):\n",
        "    mode = 'a' if os.path.exists(filename) else 'w'\n",
        "    with open(filename, mode, newline='') as csvfile:\n",
        "        writer = csv.writer(csvfile, delimiter='\\t')\n",
        "        writer.writerows(data)\n",
        "\n",
        "write_to_csv(combined_headlines, '/content/drive/MyDrive/Datasets/tokens.csv')"
      ]
    },
    {
      "cell_type": "code",
      "execution_count": null,
      "metadata": {
        "colab": {
          "base_uri": "https://localhost:8080/"
        },
        "id": "xbNs6l9rJ78W",
        "outputId": "482b823a-0d7c-4c74-f5a2-b7d43aa15cc6"
      },
      "outputs": [],
      "source": [
        "def read_from_csv(filename):\n",
        "    data = []\n",
        "    with open(filename, 'r', newline='') as csvfile:\n",
        "        reader = csv.reader(csvfile, delimiter='\\t')\n",
        "        for row in reader:\n",
        "            data.append(row)\n",
        "    return data\n",
        "\n",
        "loaded_data = read_from_csv('/content/drive/MyDrive/Datasets/tokens.csv')\n",
        "loaded_data[-1]"
      ]
    },
    {
      "cell_type": "code",
      "execution_count": null,
      "metadata": {
        "colab": {
          "base_uri": "https://localhost:8080/"
        },
        "id": "xiC84pvcDb-Z",
        "outputId": "43a79b7b-1504-4163-f1ae-c5eb6c81bc28"
      },
      "outputs": [],
      "source": [
        "len(loaded_data)"
      ]
    },
    {
      "cell_type": "markdown",
      "metadata": {
        "id": "2kO2_QYRPeky"
      },
      "source": [
        "## Lemmatization"
      ]
    },
    {
      "cell_type": "code",
      "execution_count": null,
      "metadata": {
        "colab": {
          "base_uri": "https://localhost:8080/",
          "height": 77,
          "referenced_widgets": [
            "b0487215fda3497881a611e84be844b0",
            "76cb606faefa4133b4c34e2fb08330d9",
            "2e69ab90bdc047a2ab5c3538955fa6ac",
            "a10b7230f28f463b8ed71942fbe46a7a",
            "d206b8b6259d4dfeb6a8c0634055a73f",
            "c7f0fc906ded46d1a412394b8d40fcdb",
            "311c35c9ee7b4ae3b569c28c03810b28",
            "5d7616c9418c49bc9f1d296bfbf9da95",
            "fdfb821a0c4141cc8babca77c7ce17e6",
            "f5720548cec948b4b2abccbee0409224",
            "ce8986abdb194584b102b00c5c36add0"
          ]
        },
        "id": "LYq23ZNG5IZr",
        "outputId": "9efd98ed-e1c0-4ea0-a705-dcfec78d4ae1"
      },
      "outputs": [],
      "source": [
        "def lemmatize_headlines(headline):\n",
        "    return [token.lemma_ for token in nlp(\" \".join(headline))]\n",
        "\n",
        "num_cores = cpu_count()\n",
        "\n",
        "pool = Pool(num_cores)\n",
        "\n",
        "lemmatized_headlines = list(tqdm(pool.imap(lemmatize_headlines, loaded_data), total=len(loaded_data), desc=\"Lemmatizing Headlines\"))\n",
        "\n",
        "pool.close()\n",
        "pool.join()"
      ]
    },
    {
      "cell_type": "code",
      "execution_count": null,
      "metadata": {
        "id": "M3ue9KxlK_uX"
      },
      "outputs": [],
      "source": [
        "write_to_csv(lemmatized_headlines, '/content/drive/MyDrive/Datasets/lemmatized_headlines.csv')"
      ]
    }
  ],
  "metadata": {
    "colab": {
      "provenance": []
    },
    "kernelspec": {
      "display_name": "Python 3 (ipykernel)",
      "language": "python",
      "name": "python3"
    },
    "language_info": {
      "codemirror_mode": {
        "name": "ipython",
        "version": 3
      },
      "file_extension": ".py",
      "mimetype": "text/x-python",
      "name": "python",
      "nbconvert_exporter": "python",
      "pygments_lexer": "ipython3",
      "version": "3.11.5"
    },
    "widgets": {
      "application/vnd.jupyter.widget-state+json": {
        "014657f126a3414386c17f5d330cf729": {
          "model_module": "@jupyter-widgets/controls",
          "model_module_version": "1.5.0",
          "model_name": "DescriptionStyleModel",
          "state": {
            "_model_module": "@jupyter-widgets/controls",
            "_model_module_version": "1.5.0",
            "_model_name": "DescriptionStyleModel",
            "_view_count": null,
            "_view_module": "@jupyter-widgets/base",
            "_view_module_version": "1.2.0",
            "_view_name": "StyleView",
            "description_width": ""
          }
        },
        "0422f53a99f043e38f851748f6ca8a4e": {
          "model_module": "@jupyter-widgets/controls",
          "model_module_version": "1.5.0",
          "model_name": "DescriptionStyleModel",
          "state": {
            "_model_module": "@jupyter-widgets/controls",
            "_model_module_version": "1.5.0",
            "_model_name": "DescriptionStyleModel",
            "_view_count": null,
            "_view_module": "@jupyter-widgets/base",
            "_view_module_version": "1.2.0",
            "_view_name": "StyleView",
            "description_width": ""
          }
        },
        "1b99d79f1c374d498341b49a456633aa": {
          "model_module": "@jupyter-widgets/base",
          "model_module_version": "1.2.0",
          "model_name": "LayoutModel",
          "state": {
            "_model_module": "@jupyter-widgets/base",
            "_model_module_version": "1.2.0",
            "_model_name": "LayoutModel",
            "_view_count": null,
            "_view_module": "@jupyter-widgets/base",
            "_view_module_version": "1.2.0",
            "_view_name": "LayoutView",
            "align_content": null,
            "align_items": null,
            "align_self": null,
            "border": null,
            "bottom": null,
            "display": null,
            "flex": null,
            "flex_flow": null,
            "grid_area": null,
            "grid_auto_columns": null,
            "grid_auto_flow": null,
            "grid_auto_rows": null,
            "grid_column": null,
            "grid_gap": null,
            "grid_row": null,
            "grid_template_areas": null,
            "grid_template_columns": null,
            "grid_template_rows": null,
            "height": null,
            "justify_content": null,
            "justify_items": null,
            "left": null,
            "margin": null,
            "max_height": null,
            "max_width": null,
            "min_height": null,
            "min_width": null,
            "object_fit": null,
            "object_position": null,
            "order": null,
            "overflow": null,
            "overflow_x": null,
            "overflow_y": null,
            "padding": null,
            "right": null,
            "top": null,
            "visibility": null,
            "width": null
          }
        },
        "27b293718f214ca4aa2cdae0a5ca7822": {
          "model_module": "@jupyter-widgets/controls",
          "model_module_version": "1.5.0",
          "model_name": "FloatProgressModel",
          "state": {
            "_dom_classes": [],
            "_model_module": "@jupyter-widgets/controls",
            "_model_module_version": "1.5.0",
            "_model_name": "FloatProgressModel",
            "_view_count": null,
            "_view_module": "@jupyter-widgets/controls",
            "_view_module_version": "1.5.0",
            "_view_name": "ProgressView",
            "bar_style": "success",
            "description": "",
            "description_tooltip": null,
            "layout": "IPY_MODEL_7bfb4d0ec3aa4fa39424be4e801c5e3d",
            "max": 95492,
            "min": 0,
            "orientation": "horizontal",
            "style": "IPY_MODEL_f444753ab2ab4702a91c701023880ee8",
            "value": 95492
          }
        },
        "2e69ab90bdc047a2ab5c3538955fa6ac": {
          "model_module": "@jupyter-widgets/controls",
          "model_module_version": "1.5.0",
          "model_name": "FloatProgressModel",
          "state": {
            "_dom_classes": [],
            "_model_module": "@jupyter-widgets/controls",
            "_model_module_version": "1.5.0",
            "_model_name": "FloatProgressModel",
            "_view_count": null,
            "_view_module": "@jupyter-widgets/controls",
            "_view_module_version": "1.5.0",
            "_view_name": "ProgressView",
            "bar_style": "success",
            "description": "",
            "description_tooltip": null,
            "layout": "IPY_MODEL_5d7616c9418c49bc9f1d296bfbf9da95",
            "max": 1718859,
            "min": 0,
            "orientation": "horizontal",
            "style": "IPY_MODEL_fdfb821a0c4141cc8babca77c7ce17e6",
            "value": 1718859
          }
        },
        "311c35c9ee7b4ae3b569c28c03810b28": {
          "model_module": "@jupyter-widgets/controls",
          "model_module_version": "1.5.0",
          "model_name": "DescriptionStyleModel",
          "state": {
            "_model_module": "@jupyter-widgets/controls",
            "_model_module_version": "1.5.0",
            "_model_name": "DescriptionStyleModel",
            "_view_count": null,
            "_view_module": "@jupyter-widgets/base",
            "_view_module_version": "1.2.0",
            "_view_name": "StyleView",
            "description_width": ""
          }
        },
        "37dfefda279a46e8996b5a0a48388965": {
          "model_module": "@jupyter-widgets/controls",
          "model_module_version": "1.5.0",
          "model_name": "HTMLModel",
          "state": {
            "_dom_classes": [],
            "_model_module": "@jupyter-widgets/controls",
            "_model_module_version": "1.5.0",
            "_model_name": "HTMLModel",
            "_view_count": null,
            "_view_module": "@jupyter-widgets/controls",
            "_view_module_version": "1.5.0",
            "_view_name": "HTMLView",
            "description": "",
            "description_tooltip": null,
            "layout": "IPY_MODEL_1b99d79f1c374d498341b49a456633aa",
            "placeholder": "​",
            "style": "IPY_MODEL_014657f126a3414386c17f5d330cf729",
            "value": " 95492/95492 [32:59&lt;00:00, 52.52it/s]"
          }
        },
        "3ed5936180bf41b7b03a2e1e75c49499": {
          "model_module": "@jupyter-widgets/controls",
          "model_module_version": "1.5.0",
          "model_name": "HTMLModel",
          "state": {
            "_dom_classes": [],
            "_model_module": "@jupyter-widgets/controls",
            "_model_module_version": "1.5.0",
            "_model_name": "HTMLModel",
            "_view_count": null,
            "_view_module": "@jupyter-widgets/controls",
            "_view_module_version": "1.5.0",
            "_view_name": "HTMLView",
            "description": "",
            "description_tooltip": null,
            "layout": "IPY_MODEL_c2799090a3694b2e94c45034b6019b4c",
            "placeholder": "​",
            "style": "IPY_MODEL_0422f53a99f043e38f851748f6ca8a4e",
            "value": "Batch 17 Tokenization: 100%"
          }
        },
        "5d7616c9418c49bc9f1d296bfbf9da95": {
          "model_module": "@jupyter-widgets/base",
          "model_module_version": "1.2.0",
          "model_name": "LayoutModel",
          "state": {
            "_model_module": "@jupyter-widgets/base",
            "_model_module_version": "1.2.0",
            "_model_name": "LayoutModel",
            "_view_count": null,
            "_view_module": "@jupyter-widgets/base",
            "_view_module_version": "1.2.0",
            "_view_name": "LayoutView",
            "align_content": null,
            "align_items": null,
            "align_self": null,
            "border": null,
            "bottom": null,
            "display": null,
            "flex": null,
            "flex_flow": null,
            "grid_area": null,
            "grid_auto_columns": null,
            "grid_auto_flow": null,
            "grid_auto_rows": null,
            "grid_column": null,
            "grid_gap": null,
            "grid_row": null,
            "grid_template_areas": null,
            "grid_template_columns": null,
            "grid_template_rows": null,
            "height": null,
            "justify_content": null,
            "justify_items": null,
            "left": null,
            "margin": null,
            "max_height": null,
            "max_width": null,
            "min_height": null,
            "min_width": null,
            "object_fit": null,
            "object_position": null,
            "order": null,
            "overflow": null,
            "overflow_x": null,
            "overflow_y": null,
            "padding": null,
            "right": null,
            "top": null,
            "visibility": null,
            "width": null
          }
        },
        "76cb606faefa4133b4c34e2fb08330d9": {
          "model_module": "@jupyter-widgets/controls",
          "model_module_version": "1.5.0",
          "model_name": "HTMLModel",
          "state": {
            "_dom_classes": [],
            "_model_module": "@jupyter-widgets/controls",
            "_model_module_version": "1.5.0",
            "_model_name": "HTMLModel",
            "_view_count": null,
            "_view_module": "@jupyter-widgets/controls",
            "_view_module_version": "1.5.0",
            "_view_name": "HTMLView",
            "description": "",
            "description_tooltip": null,
            "layout": "IPY_MODEL_c7f0fc906ded46d1a412394b8d40fcdb",
            "placeholder": "​",
            "style": "IPY_MODEL_311c35c9ee7b4ae3b569c28c03810b28",
            "value": "Lemmatizing Headlines: 100%"
          }
        },
        "7bfb4d0ec3aa4fa39424be4e801c5e3d": {
          "model_module": "@jupyter-widgets/base",
          "model_module_version": "1.2.0",
          "model_name": "LayoutModel",
          "state": {
            "_model_module": "@jupyter-widgets/base",
            "_model_module_version": "1.2.0",
            "_model_name": "LayoutModel",
            "_view_count": null,
            "_view_module": "@jupyter-widgets/base",
            "_view_module_version": "1.2.0",
            "_view_name": "LayoutView",
            "align_content": null,
            "align_items": null,
            "align_self": null,
            "border": null,
            "bottom": null,
            "display": null,
            "flex": null,
            "flex_flow": null,
            "grid_area": null,
            "grid_auto_columns": null,
            "grid_auto_flow": null,
            "grid_auto_rows": null,
            "grid_column": null,
            "grid_gap": null,
            "grid_row": null,
            "grid_template_areas": null,
            "grid_template_columns": null,
            "grid_template_rows": null,
            "height": null,
            "justify_content": null,
            "justify_items": null,
            "left": null,
            "margin": null,
            "max_height": null,
            "max_width": null,
            "min_height": null,
            "min_width": null,
            "object_fit": null,
            "object_position": null,
            "order": null,
            "overflow": null,
            "overflow_x": null,
            "overflow_y": null,
            "padding": null,
            "right": null,
            "top": null,
            "visibility": null,
            "width": null
          }
        },
        "a10b7230f28f463b8ed71942fbe46a7a": {
          "model_module": "@jupyter-widgets/controls",
          "model_module_version": "1.5.0",
          "model_name": "HTMLModel",
          "state": {
            "_dom_classes": [],
            "_model_module": "@jupyter-widgets/controls",
            "_model_module_version": "1.5.0",
            "_model_name": "HTMLModel",
            "_view_count": null,
            "_view_module": "@jupyter-widgets/controls",
            "_view_module_version": "1.5.0",
            "_view_name": "HTMLView",
            "description": "",
            "description_tooltip": null,
            "layout": "IPY_MODEL_f5720548cec948b4b2abccbee0409224",
            "placeholder": "​",
            "style": "IPY_MODEL_ce8986abdb194584b102b00c5c36add0",
            "value": " 1718859/1718859 [4:29:25&lt;00:00, 245.45it/s]"
          }
        },
        "b00c93143e854140b0ff032448e96122": {
          "model_module": "@jupyter-widgets/base",
          "model_module_version": "1.2.0",
          "model_name": "LayoutModel",
          "state": {
            "_model_module": "@jupyter-widgets/base",
            "_model_module_version": "1.2.0",
            "_model_name": "LayoutModel",
            "_view_count": null,
            "_view_module": "@jupyter-widgets/base",
            "_view_module_version": "1.2.0",
            "_view_name": "LayoutView",
            "align_content": null,
            "align_items": null,
            "align_self": null,
            "border": null,
            "bottom": null,
            "display": null,
            "flex": null,
            "flex_flow": null,
            "grid_area": null,
            "grid_auto_columns": null,
            "grid_auto_flow": null,
            "grid_auto_rows": null,
            "grid_column": null,
            "grid_gap": null,
            "grid_row": null,
            "grid_template_areas": null,
            "grid_template_columns": null,
            "grid_template_rows": null,
            "height": null,
            "justify_content": null,
            "justify_items": null,
            "left": null,
            "margin": null,
            "max_height": null,
            "max_width": null,
            "min_height": null,
            "min_width": null,
            "object_fit": null,
            "object_position": null,
            "order": null,
            "overflow": null,
            "overflow_x": null,
            "overflow_y": null,
            "padding": null,
            "right": null,
            "top": null,
            "visibility": null,
            "width": null
          }
        },
        "b0487215fda3497881a611e84be844b0": {
          "model_module": "@jupyter-widgets/controls",
          "model_module_version": "1.5.0",
          "model_name": "HBoxModel",
          "state": {
            "_dom_classes": [],
            "_model_module": "@jupyter-widgets/controls",
            "_model_module_version": "1.5.0",
            "_model_name": "HBoxModel",
            "_view_count": null,
            "_view_module": "@jupyter-widgets/controls",
            "_view_module_version": "1.5.0",
            "_view_name": "HBoxView",
            "box_style": "",
            "children": [
              "IPY_MODEL_76cb606faefa4133b4c34e2fb08330d9",
              "IPY_MODEL_2e69ab90bdc047a2ab5c3538955fa6ac",
              "IPY_MODEL_a10b7230f28f463b8ed71942fbe46a7a"
            ],
            "layout": "IPY_MODEL_d206b8b6259d4dfeb6a8c0634055a73f"
          }
        },
        "c2799090a3694b2e94c45034b6019b4c": {
          "model_module": "@jupyter-widgets/base",
          "model_module_version": "1.2.0",
          "model_name": "LayoutModel",
          "state": {
            "_model_module": "@jupyter-widgets/base",
            "_model_module_version": "1.2.0",
            "_model_name": "LayoutModel",
            "_view_count": null,
            "_view_module": "@jupyter-widgets/base",
            "_view_module_version": "1.2.0",
            "_view_name": "LayoutView",
            "align_content": null,
            "align_items": null,
            "align_self": null,
            "border": null,
            "bottom": null,
            "display": null,
            "flex": null,
            "flex_flow": null,
            "grid_area": null,
            "grid_auto_columns": null,
            "grid_auto_flow": null,
            "grid_auto_rows": null,
            "grid_column": null,
            "grid_gap": null,
            "grid_row": null,
            "grid_template_areas": null,
            "grid_template_columns": null,
            "grid_template_rows": null,
            "height": null,
            "justify_content": null,
            "justify_items": null,
            "left": null,
            "margin": null,
            "max_height": null,
            "max_width": null,
            "min_height": null,
            "min_width": null,
            "object_fit": null,
            "object_position": null,
            "order": null,
            "overflow": null,
            "overflow_x": null,
            "overflow_y": null,
            "padding": null,
            "right": null,
            "top": null,
            "visibility": null,
            "width": null
          }
        },
        "c3b2e2c922a14fa8b2407171dc602df0": {
          "model_module": "@jupyter-widgets/controls",
          "model_module_version": "1.5.0",
          "model_name": "HBoxModel",
          "state": {
            "_dom_classes": [],
            "_model_module": "@jupyter-widgets/controls",
            "_model_module_version": "1.5.0",
            "_model_name": "HBoxModel",
            "_view_count": null,
            "_view_module": "@jupyter-widgets/controls",
            "_view_module_version": "1.5.0",
            "_view_name": "HBoxView",
            "box_style": "",
            "children": [
              "IPY_MODEL_3ed5936180bf41b7b03a2e1e75c49499",
              "IPY_MODEL_27b293718f214ca4aa2cdae0a5ca7822",
              "IPY_MODEL_37dfefda279a46e8996b5a0a48388965"
            ],
            "layout": "IPY_MODEL_b00c93143e854140b0ff032448e96122"
          }
        },
        "c7f0fc906ded46d1a412394b8d40fcdb": {
          "model_module": "@jupyter-widgets/base",
          "model_module_version": "1.2.0",
          "model_name": "LayoutModel",
          "state": {
            "_model_module": "@jupyter-widgets/base",
            "_model_module_version": "1.2.0",
            "_model_name": "LayoutModel",
            "_view_count": null,
            "_view_module": "@jupyter-widgets/base",
            "_view_module_version": "1.2.0",
            "_view_name": "LayoutView",
            "align_content": null,
            "align_items": null,
            "align_self": null,
            "border": null,
            "bottom": null,
            "display": null,
            "flex": null,
            "flex_flow": null,
            "grid_area": null,
            "grid_auto_columns": null,
            "grid_auto_flow": null,
            "grid_auto_rows": null,
            "grid_column": null,
            "grid_gap": null,
            "grid_row": null,
            "grid_template_areas": null,
            "grid_template_columns": null,
            "grid_template_rows": null,
            "height": null,
            "justify_content": null,
            "justify_items": null,
            "left": null,
            "margin": null,
            "max_height": null,
            "max_width": null,
            "min_height": null,
            "min_width": null,
            "object_fit": null,
            "object_position": null,
            "order": null,
            "overflow": null,
            "overflow_x": null,
            "overflow_y": null,
            "padding": null,
            "right": null,
            "top": null,
            "visibility": null,
            "width": null
          }
        },
        "ce8986abdb194584b102b00c5c36add0": {
          "model_module": "@jupyter-widgets/controls",
          "model_module_version": "1.5.0",
          "model_name": "DescriptionStyleModel",
          "state": {
            "_model_module": "@jupyter-widgets/controls",
            "_model_module_version": "1.5.0",
            "_model_name": "DescriptionStyleModel",
            "_view_count": null,
            "_view_module": "@jupyter-widgets/base",
            "_view_module_version": "1.2.0",
            "_view_name": "StyleView",
            "description_width": ""
          }
        },
        "d206b8b6259d4dfeb6a8c0634055a73f": {
          "model_module": "@jupyter-widgets/base",
          "model_module_version": "1.2.0",
          "model_name": "LayoutModel",
          "state": {
            "_model_module": "@jupyter-widgets/base",
            "_model_module_version": "1.2.0",
            "_model_name": "LayoutModel",
            "_view_count": null,
            "_view_module": "@jupyter-widgets/base",
            "_view_module_version": "1.2.0",
            "_view_name": "LayoutView",
            "align_content": null,
            "align_items": null,
            "align_self": null,
            "border": null,
            "bottom": null,
            "display": null,
            "flex": null,
            "flex_flow": null,
            "grid_area": null,
            "grid_auto_columns": null,
            "grid_auto_flow": null,
            "grid_auto_rows": null,
            "grid_column": null,
            "grid_gap": null,
            "grid_row": null,
            "grid_template_areas": null,
            "grid_template_columns": null,
            "grid_template_rows": null,
            "height": null,
            "justify_content": null,
            "justify_items": null,
            "left": null,
            "margin": null,
            "max_height": null,
            "max_width": null,
            "min_height": null,
            "min_width": null,
            "object_fit": null,
            "object_position": null,
            "order": null,
            "overflow": null,
            "overflow_x": null,
            "overflow_y": null,
            "padding": null,
            "right": null,
            "top": null,
            "visibility": null,
            "width": null
          }
        },
        "f444753ab2ab4702a91c701023880ee8": {
          "model_module": "@jupyter-widgets/controls",
          "model_module_version": "1.5.0",
          "model_name": "ProgressStyleModel",
          "state": {
            "_model_module": "@jupyter-widgets/controls",
            "_model_module_version": "1.5.0",
            "_model_name": "ProgressStyleModel",
            "_view_count": null,
            "_view_module": "@jupyter-widgets/base",
            "_view_module_version": "1.2.0",
            "_view_name": "StyleView",
            "bar_color": null,
            "description_width": ""
          }
        },
        "f5720548cec948b4b2abccbee0409224": {
          "model_module": "@jupyter-widgets/base",
          "model_module_version": "1.2.0",
          "model_name": "LayoutModel",
          "state": {
            "_model_module": "@jupyter-widgets/base",
            "_model_module_version": "1.2.0",
            "_model_name": "LayoutModel",
            "_view_count": null,
            "_view_module": "@jupyter-widgets/base",
            "_view_module_version": "1.2.0",
            "_view_name": "LayoutView",
            "align_content": null,
            "align_items": null,
            "align_self": null,
            "border": null,
            "bottom": null,
            "display": null,
            "flex": null,
            "flex_flow": null,
            "grid_area": null,
            "grid_auto_columns": null,
            "grid_auto_flow": null,
            "grid_auto_rows": null,
            "grid_column": null,
            "grid_gap": null,
            "grid_row": null,
            "grid_template_areas": null,
            "grid_template_columns": null,
            "grid_template_rows": null,
            "height": null,
            "justify_content": null,
            "justify_items": null,
            "left": null,
            "margin": null,
            "max_height": null,
            "max_width": null,
            "min_height": null,
            "min_width": null,
            "object_fit": null,
            "object_position": null,
            "order": null,
            "overflow": null,
            "overflow_x": null,
            "overflow_y": null,
            "padding": null,
            "right": null,
            "top": null,
            "visibility": null,
            "width": null
          }
        },
        "fdfb821a0c4141cc8babca77c7ce17e6": {
          "model_module": "@jupyter-widgets/controls",
          "model_module_version": "1.5.0",
          "model_name": "ProgressStyleModel",
          "state": {
            "_model_module": "@jupyter-widgets/controls",
            "_model_module_version": "1.5.0",
            "_model_name": "ProgressStyleModel",
            "_view_count": null,
            "_view_module": "@jupyter-widgets/base",
            "_view_module_version": "1.2.0",
            "_view_name": "StyleView",
            "bar_color": null,
            "description_width": ""
          }
        }
      }
    }
  },
  "nbformat": 4,
  "nbformat_minor": 0
}
